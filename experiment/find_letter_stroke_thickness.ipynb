{
 "cells": [
  {
   "cell_type": "code",
   "execution_count": null,
   "metadata": {},
   "outputs": [],
   "source": [
    "import numpy as np\n",
    "import cv2\n",
    "\n",
    "img = cv2.imread('../test_img/20.jpg', cv2.IMREAD_GRAYSCALE)\n",
    "\n",
    "def find_letter_stroke_thickness(img):\n",
    "    h, w = img.shape[:2]\n",
    "    center_hor_line = img[int(h/2):int(h/2) + 1, 0:w].flatten()\n",
    "    print(center_hor_line)\n",
    "    thickness_list = []\n",
    "    start_pt = None\n",
    "    end_pt = None\n",
    "    for id in range(center_hor_line.__len__() - 1):\n",
    "        print(id)\n",
    "        if id == 0 and center_hor_line[id] <= 5:\n",
    "            start_pt = id\n",
    "        elif id != 0 and center_hor_line[id] > 5 and center_hor_line[id + 1] <= 5:\n",
    "            start_pt = id + 1\n",
    "        if id != 0 and center_hor_line[id] <= 5 and center_hor_line[id + 1] > 5 and start_pt is not None:\n",
    "            end_pt = id\n",
    "        elif center_hor_line[id + 1] <= 5 and id == center_hor_line.__len__() - 2 and start_pt is not None:\n",
    "            end_pt = id + 1\n",
    "        if start_pt is not None and end_pt is not None:\n",
    "            thickness_list.append(end_pt - start_pt)\n",
    "            start_pt = None\n",
    "            end_pt = None\n",
    "    print(thickness_list)\n",
    "    median_thickness = np.median(np.array(thickness_list))\n",
    "    return median_thickness\n",
    "        \n",
    "find_letter_stroke_thickness(img)"
   ]
  },
  {
   "cell_type": "code",
   "execution_count": 25,
   "metadata": {},
   "outputs": [
    {
     "data": {
      "text/plain": [
       "[1, 3, 6, 8, 54]"
      ]
     },
     "execution_count": 25,
     "metadata": {},
     "output_type": "execute_result"
    }
   ],
   "source": [
    "a = [1, 3,3, 54,6,8]\n",
    "sorted(list(set(a)))"
   ]
  }
 ],
 "metadata": {
  "kernelspec": {
   "display_name": "Python 3.8.13 ('tesseract_VN')",
   "language": "python",
   "name": "python3"
  },
  "language_info": {
   "codemirror_mode": {
    "name": "ipython",
    "version": 3
   },
   "file_extension": ".py",
   "mimetype": "text/x-python",
   "name": "python",
   "nbconvert_exporter": "python",
   "pygments_lexer": "ipython3",
   "version": "3.8.13"
  },
  "orig_nbformat": 4,
  "vscode": {
   "interpreter": {
    "hash": "f0d8ae804e42a70735150dbaf14719d7ff532e60b4e2ca497e36117bb366d6c6"
   }
  }
 },
 "nbformat": 4,
 "nbformat_minor": 2
}
