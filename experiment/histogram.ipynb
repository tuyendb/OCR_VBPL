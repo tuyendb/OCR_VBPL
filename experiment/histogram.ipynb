{
 "cells": [
  {
   "cell_type": "markdown",
   "metadata": {},
   "source": [
    "VISUALIZE HISTOGRAM OF IMAGE"
   ]
  },
  {
   "cell_type": "code",
   "execution_count": 3,
   "metadata": {},
   "outputs": [
    {
     "data": {
      "image/png": "[encoded data removed]",
      "text/plain": [
       "<Figure size 432x288 with 1 Axes>"
      ]
     },
     "metadata": {
      "needs_background": "light"
     },
     "output_type": "display_data"
    }
   ],
   "source": [
    "import matplotlib.pyplot as plt\n",
    "import cv2\n",
    "\n",
    "img_path = '../test_img/1/vbg_0.jpg'\n",
    "img = cv2.imread(img_path, cv2.IMREAD_GRAYSCALE)\n",
    "plt.hist(img.ravel(), 256, (0, 256)); plt.show()\n"
   ]
  },
  {
   "cell_type": "markdown",
   "metadata": {},
   "source": [
    "COUNT PIXELS OF EACH GRAY LEVEL"
   ]
  },
  {
   "cell_type": "code",
   "execution_count": 4,
   "metadata": {},
   "outputs": [
    {
     "data": {
      "text/plain": [
       "array([255,   0, 254])"
      ]
     },
     "execution_count": 4,
     "metadata": {},
     "output_type": "execute_result"
    }
   ],
   "source": [
    "import numpy as np\n",
    "import os\n",
    "import os.path as osp\n",
    "\n",
    "img_name_list = os.listdir('../test_img/1')[:3]\n",
    "count_mat = np.zeros((256, 1), dtype=np.int32)\n",
    "for name in img_name_list:\n",
    "    img = cv2.imread(osp.join('../test_img/1', name), cv2.IMREAD_GRAYSCALE)\n",
    "    hist = cv2.calcHist([img], [0], None, [256], [0, 256])\n",
    "    count_mat = count_mat + hist\n",
    "top_3_pixels_value = (-count_mat.ravel()).argsort()[:3]\n",
    "top_3_pixels_value"
   ]
  },
  {
   "cell_type": "code",
   "execution_count": 21,
   "metadata": {},
   "outputs": [
    {
     "name": "stdout",
     "output_type": "stream",
     "text": [
      "7.25 0.0\n"
     ]
    },
    {
     "data": {
      "text/plain": [
       "2.9"
      ]
     },
     "execution_count": 21,
     "metadata": {},
     "output_type": "execute_result"
    },
    {
     "data": {
      "image/png": "[encoded data removed]",
      "text/plain": [
       "<Figure size 432x288 with 1 Axes>"
      ]
     },
     "metadata": {
      "needs_background": "light"
     },
     "output_type": "display_data"
    }
   ],
   "source": [
    "import matplotlib.pyplot as plt\n",
    "import numpy as np\n",
    "fig, ax = plt.subplots(1, 1)\n",
    "a = np.array([0.0, 0.0, 5.0, 3.0, 2.0, 2.0, 1.0, 5.0, 2.0, 2.0, 2.0, 2.0, 2.0, 2.0, 2.0, 2.0, 2.0, 2.0, 2.0, 2.0, 2.5, 4.5, 4.5, 2.0, 2.0, 2.0, 2.0, 2.0, 2.0, 2.0, 2.0, 2.0, 5.0, 2.0, 5.0, 4.5, 4.0, 2.0, 2.0, 2.0, 2.0, 2.5, 4.5, 2.0, 2.0, 2.5, 2.0, 2.0, 2.0, 2.0, 5.0, 2.0, 2.0, 2.0, 2.0, 2.0, 2.0, 2.0, 2.0, 2.0, 2.0, 2.0, 2.0, 3.0, 3.0, 3.5, 2.0, 2.0, 2.0, 2.0, 2.0, 2.0, 5.0, 3.25, 2.5, 2.0, 2.0, 2.0, 2.0, 2.0, 2.0, 2.0, 4.5, 2.0, 3.0, 2.0, 2.0, 2.0, 2.0, 2.0, 2.0, 2.0, 2.0, 2.5, 2.0, 2.0, 2.0, 2.0, 2.0, 2.0, 2.0, 2.0, 5.0, 4.5, 2.0, 2.0, 2.0, 2.0, 2.0, 2.0, 2.0, 2.0, 2.0, 2.0, 2.0, 2.0, 2.0, 2.0, 3.0, 2.0, 2.0, 2.0, 4.0, 2.0, 2.5, 2.0, 2.0, 2.0, 2.0, 2.0, 2.0, 2.0, 4.0, 2.0, 2.0, 2.0, 4.0, 2.0, 3.0, 2.0, 2.0, 1.5, 4.0, 2.0, 2.0, 2.0, 2.0, 2.0, 2.0, 2.0, 2.0, 5.0, 4.0, 2.0, 3.5, 4.0, 2.0, 2.0, 2.0, 2.0, 2.0, 4.0, 2.0, 2.0, 2.0, 2.0, 2.0, 2.0, 2.0, 2.0, 2.5, 4.0, 2.0, 2.0, 2.0, 2.0, 3.0, 2.5, 4.5, 4.0, 2.0, 2.0, 2.0, 2.0, 2.0, 2.0, 2.0, 2.0, 2.0, 2.0, 2.0, 2.0, 4.0, 2.0, 2.0, 2.0, 2.0, 2.0, 2.0, 2.0, 2.0, 1.5, 2.5, 2.0, 2.0, 2.0, 2.0, 2.25, 2.0, 2.0, 2.0, 2.0, 4.5, 2.0, 2.0, 2.0, 4.75, 4.0, 4.0, 2.0, 2.0, 2.0, 5.0, 2.0, 2.0, 5.0, 5.0, 2.0, 3.0, 2.0, 3.0, 2.0, 4.0, 2.0, 2.0, 2.0, 4.0, 2.0, 2.0, 2.0, 2.0, 2.0, 2.0, 2.0, 4.0, 2.0, 2.0, 2.0, 4.5, 5.0, 2.0, 2.0, 2.0, 2.0, 1.0, 3.5, 2.0, 2.0, 2.0, 4.0, 3.0, 2.0, 3.0, 3.0, 4.0, 3.0, 2.0, 2.0, 5.0, 2.0, 3.0, 3.0, 3.0, 1.0, 2.0, 2.0, 4.0, 4.0, 2.5, 4.0, 4.0, 2.0, 2.0, 2.0, 2.0, 2.0, 4.0, 4.0, 5.0, 4.0, 7.25, 4.0, 2.0, 3.0, 2.25, 3.0, 2.0, 4.0, 2.5, 4.0, 1.25, 6.0, 2.0, 2.0, 2.0, 2.0, 2.0, 1.5, 1.0, 2.0, 1.0, 1.5, 2.0, 3.0, 4.5, 2.0, 2.0, 2.0, 2.0, 4.0, 2.0, 2.0, 1.0, 2.0, 2.0, 2.0, 1.0, 1.0, 1.0, 1.0, 1.0, 2.0, 1.0, 2.0, 1.0, 1.0, 1.0, 1.0, 1.5, 1.5, 1.0, 1.5, 2.0, 2.0, 2.0, 3.0, 1.5, 5.0, 4.0, 3.0, 2.0, 3.0, 3.0, 4.0, 2.0, 4.0, 2.0, 2.0, 2.0, 2.0, 2.0, 2.0, 1.0, 2.0, 1.5, 3.0, 3.0, 1.0, 3.0, 3.0, 1.75, 3.0, 2.0, 3.5, 3.0, 1.0, 2.0, 4.0, 3.0, 2.0, 2.0, 2.0, 3.0, 2.0, 2.0, 2.0, 2.0, 2.0, 4.5, 6.0, 3.0, 2.0, 2.0, 2.0, 1.0, 3.0, 3.5, 4.5, 1.5, 4.0, 2.0, 2.0, 2.0, 2.0, 1.0, 2.0, 1.5, 3.0, 2.0, 2.0, 6.0, 2.75, 1.0, 2.5, 1.0, 2.0, 2.0, 1.0, 2.0, 2.0, 2.0, 2.0, 3.0, 1.5, 2.0, 2.0, 1.5, 1.0, 1.0, 1.0, 1.0, 2.0, 1.5, 1.0, 2.0, 2.0, 1.0, 1.0, 1.0, 1.0, 1.5, 2.0, 2.0, 2.0, 2.0, 3.0, 5.0, 3.5, 3.0, 2.0])\n",
    "b = np.zeros((5,), dtype=np.int16)\n",
    "upper_thresh = max(a)\n",
    "lower_thresh = min(a)\n",
    "step = (upper_thresh - lower_thresh)/5\n",
    "print(upper_thresh, lower_thresh)\n",
    "for i in a:\n",
    "    for j in range(1, 6):\n",
    "        if i <= lower_thresh + j*step:\n",
    "            b[j - 1] += 1\n",
    "            break\n",
    "index = np.argmax(b)\n",
    "threshold = lower_thresh + (index + 1)*step\n",
    "threshold\n",
    "# bins = [f for f in range(10)]\n",
    "# ax.hist(a, bins=bins)\n",
    "# ax.set_title('histogram of letter thickness')\n",
    "# ax.set_xlabel('thickness')\n",
    "# ax.set_ylabel('amount')\n",
    "# plt.show()"
   ]
  },
  {
   "cell_type": "code",
   "execution_count": 5,
   "metadata": {},
   "outputs": [
    {
     "data": {
      "text/plain": [
       "True"
      ]
     },
     "execution_count": 5,
     "metadata": {},
     "output_type": "execute_result"
    }
   ],
   "source": []
  },
  {
   "cell_type": "code",
   "execution_count": 9,
   "metadata": {},
   "outputs": [
    {
     "data": {
      "text/plain": [
       "[]"
      ]
     },
     "execution_count": 9,
     "metadata": {},
     "output_type": "execute_result"
    }
   ],
   "source": [
    "def rm_keys(key_ls):\n",
    "    if \"Number\" in key_ls:\n",
    "        key_ls.remove(\"Number\")\n",
    "    if \"Topic\" in key_ls:\n",
    "        key_ls.remove(\"Topic\")\n",
    "    return key_ls\n",
    "\n",
    "rm_keys([])"
   ]
  },
  {
   "cell_type": "code",
   "execution_count": 25,
   "metadata": {},
   "outputs": [
    {
     "name": "stdout",
     "output_type": "stream",
     "text": [
      "4\n"
     ]
    }
   ],
   "source": []
  }
 ],
 "metadata": {
  "kernelspec": {
   "display_name": "Python 3.8.13 ('tesseract_VN')",
   "language": "python",
   "name": "python3"
  },
  "language_info": {
   "codemirror_mode": {
    "name": "ipython",
    "version": 3
   },
   "file_extension": ".py",
   "mimetype": "text/x-python",
   "name": "python",
   "nbconvert_exporter": "python",
   "pygments_lexer": "ipython3",
   "version": "3.8.13"
  },
  "orig_nbformat": 4,
  "vscode": {
   "interpreter": {
    "hash": "f0d8ae804e42a70735150dbaf14719d7ff532e60b4e2ca497e36117bb366d6c6"
   }
  }
 },
 "nbformat": 4,
 "nbformat_minor": 2
}
