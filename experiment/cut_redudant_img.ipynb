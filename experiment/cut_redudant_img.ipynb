{
 "cells": [
  {
   "cell_type": "code",
   "execution_count": 16,
   "metadata": {},
   "outputs": [
    {
     "name": "stdout",
     "output_type": "stream",
     "text": [
      "./cut_imgs/008e497b78d72ee780d22dd2fcdf11dd.jpg\n",
      "./cut_imgs/00a3d48a5f6094e3507181387ce172a4.jpg\n",
      "./cut_imgs/00a7df3bf3bf8878d8d546e0b0d751e8.jpg\n",
      "./cut_imgs/00f1b86b2da6f5200a5df0e705811630.jpg\n",
      "./cut_imgs/01516d855466e744723181879cede004.jpg\n",
      "./cut_imgs/016b504d0745ad0775fe9e27a6d2dfb5.jpg\n",
      "./cut_imgs/03ba60396f00a5766be13cd9b183cd29.jpg\n",
      "./cut_imgs/066e3f0438934e0e92abff07c59eff68.jpg\n",
      "./cut_imgs/0691e47b6e37b75872cee3b989183242.jpg\n",
      "./cut_imgs/0875543186252faa299f81329936ed45.jpg\n"
     ]
    }
   ],
   "source": [
    "from pdf2image import convert_from_path\n",
    "import os\n",
    "import os.path as osp\n",
    "import numpy as np\n",
    "import cv2\n",
    "\n",
    "dir_path = '../pdf_file/pdf'\n",
    "files_name = [f for f in os.listdir(dir_path) if f.find('.pdf') != -1]\n",
    "for name in files_name[:10]:\n",
    "    pdf_path = osp.join(dir_path, name)\n",
    "    images = convert_from_path(\n",
    "            pdf_path,\n",
    "            grayscale=True,\n",
    "            first_page=1,\n",
    "            last_page=1,\n",
    "            jpegopt=True\n",
    "        )\n",
    "    for image in images:\n",
    "        image = image.convert('RGB')\n",
    "        cv2_img = np.array(image)\n",
    "        h, w, _ = cv2_img.shape\n",
    "        #rgb2bgr\n",
    "        cv2_img = cv2_img[:, :, ::-1]\n",
    "        gray_img = cv2.cvtColor(cv2_img, cv2.COLOR_BGR2GRAY)\n",
    "        save_path = './cut_imgs/' + name[:-4] + '.jpg'\n",
    "        print(save_path)\n",
    "        cv2.imwrite(save_path, gray_img[0:int(h/7.3), 0:w])\n"
   ]
  },
  {
   "cell_type": "code",
   "execution_count": 3,
   "metadata": {},
   "outputs": [
    {
     "name": "stdout",
     "output_type": "stream",
     "text": [
      "[1 2 3 4 5 6]\n"
     ]
    }
   ],
   "source": [
    "import numpy as np\n",
    "\n",
    "a = np.array([1, 2, 3])\n",
    "b = np.array([4, 5 ,6])\n",
    "print(np.hstack((a, b)))"
   ]
  },
  {
   "cell_type": "code",
   "execution_count": null,
   "metadata": {},
   "outputs": [],
   "source": []
  }
 ],
 "metadata": {
  "kernelspec": {
   "display_name": "Python 3.8.13 ('tesseract_VN')",
   "language": "python",
   "name": "python3"
  },
  "language_info": {
   "codemirror_mode": {
    "name": "ipython",
    "version": 3
   },
   "file_extension": ".py",
   "mimetype": "text/x-python",
   "name": "python",
   "nbconvert_exporter": "python",
   "pygments_lexer": "ipython3",
   "version": "3.8.13"
  },
  "orig_nbformat": 4,
  "vscode": {
   "interpreter": {
    "hash": "f0d8ae804e42a70735150dbaf14719d7ff532e60b4e2ca497e36117bb366d6c6"
   }
  }
 },
 "nbformat": 4,
 "nbformat_minor": 2
}
